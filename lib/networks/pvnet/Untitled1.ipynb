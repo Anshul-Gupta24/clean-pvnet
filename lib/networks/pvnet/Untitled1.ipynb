{
 "cells": [
  {
   "cell_type": "code",
   "execution_count": 1,
   "metadata": {},
   "outputs": [],
   "source": [
    "# %load singlestage.py\n",
    "\n",
    "import torch\n",
    "import torch.nn as nn\n",
    "\n",
    "class SimplePnPNet(nn.Module):\n",
    "    def __init__(self, nIn):\n",
    "        super(SimplePnPNet, self).__init__()\n",
    "\n",
    "        self.conv1 = torch.nn.Conv1d(nIn, 128, 1)\n",
    "        self.conv2 = torch.nn.Conv1d(128, 128, 1)\n",
    "        self.conv3 = torch.nn.Conv1d(128, 128, 1)\n",
    "\n",
    "        self.fc1 = nn.Linear(1024, 512)\n",
    "        self.fc2 = nn.Linear(512, 256)\n",
    "        self.fc_qt = nn.Linear(256, 7)\n",
    "        self.act = nn.LeakyReLU(0.1, inplace=True)\n",
    "\n",
    "    def forward(self, x):\n",
    "        batch_size = x.size(0)\n",
    "        data_size = x.size(2)  # number of correspondences\n",
    "\n",
    "        print(x.shape)\n",
    "        x = self.act(self.conv1(x))\n",
    "        print(x.shape)\n",
    "        x = self.act(self.conv2(x))\n",
    "        print(x.shape)\n",
    "        x = self.conv3(x)\n",
    "        print(x.shape)\n",
    "\n",
    "        x = x.view(batch_size, 128, -1, 8)\n",
    "        print(x.shape)\n",
    "        x = torch.max(x, dim=2, keepdim=True)[0]\n",
    "        print(x.shape)\n",
    "        # x = torch.mean(x, dim=2, keepdim=True)\n",
    "\n",
    "        x = x.view(batch_size, 1024)\n",
    "        print(x.shape)\n",
    "        # \n",
    "        x = self.act(self.fc1(x))\n",
    "        x = self.act(self.fc2(x))\n",
    "        # \n",
    "        qt = self.fc_qt(x)\n",
    "        return qt"
   ]
  },
  {
   "cell_type": "code",
   "execution_count": 2,
   "metadata": {},
   "outputs": [],
   "source": [
    "model = SimplePnPNet(4)"
   ]
  },
  {
   "cell_type": "code",
   "execution_count": 3,
   "metadata": {},
   "outputs": [
    {
     "data": {
      "text/plain": [
       "SimplePnPNet(\n",
       "  (conv1): Conv1d(4, 128, kernel_size=(1,), stride=(1,))\n",
       "  (conv2): Conv1d(128, 128, kernel_size=(1,), stride=(1,))\n",
       "  (conv3): Conv1d(128, 128, kernel_size=(1,), stride=(1,))\n",
       "  (fc1): Linear(in_features=1024, out_features=512, bias=True)\n",
       "  (fc2): Linear(in_features=512, out_features=256, bias=True)\n",
       "  (fc_qt): Linear(in_features=256, out_features=7, bias=True)\n",
       "  (act): LeakyReLU(negative_slope=0.1, inplace)\n",
       ")"
      ]
     },
     "execution_count": 3,
     "metadata": {},
     "output_type": "execute_result"
    }
   ],
   "source": [
    "model"
   ]
  },
  {
   "cell_type": "code",
   "execution_count": 8,
   "metadata": {},
   "outputs": [],
   "source": [
    "input = torch.zeros(1, 4, 1280)"
   ]
  },
  {
   "cell_type": "code",
   "execution_count": 9,
   "metadata": {},
   "outputs": [
    {
     "name": "stdout",
     "output_type": "stream",
     "text": [
      "torch.Size([1, 4, 1280])\n",
      "torch.Size([1, 128, 1280])\n",
      "torch.Size([1, 128, 1280])\n",
      "torch.Size([1, 128, 1280])\n",
      "torch.Size([1, 128, 160, 8])\n",
      "torch.Size([1, 128, 1, 8])\n",
      "torch.Size([1, 1024])\n"
     ]
    },
    {
     "data": {
      "text/plain": [
       "tensor([[ 0.0395, -0.0340, -0.0216,  0.0271,  0.0098, -0.0348,  0.0147]],\n",
       "       grad_fn=<AddmmBackward>)"
      ]
     },
     "execution_count": 9,
     "metadata": {},
     "output_type": "execute_result"
    }
   ],
   "source": [
    "model(input)"
   ]
  },
  {
   "cell_type": "code",
   "execution_count": 9,
   "metadata": {},
   "outputs": [
    {
     "data": {
      "text/plain": [
       "Parameter containing:\n",
       "tensor([[-0.0530,  0.0611,  0.0340,  ..., -0.0058,  0.0491, -0.0478],\n",
       "        [ 0.0333,  0.0041,  0.0293,  ..., -0.0208,  0.0133,  0.0189],\n",
       "        [ 0.0555,  0.0571, -0.0139,  ...,  0.0545, -0.0606, -0.0331],\n",
       "        ...,\n",
       "        [ 0.0476,  0.0001,  0.0314,  ...,  0.0538,  0.0504,  0.0020],\n",
       "        [-0.0445, -0.0077, -0.0151,  ..., -0.0078,  0.0543, -0.0323],\n",
       "        [ 0.0125,  0.0466, -0.0622,  ...,  0.0593, -0.0308, -0.0354]],\n",
       "       requires_grad=True)"
      ]
     },
     "execution_count": 9,
     "metadata": {},
     "output_type": "execute_result"
    }
   ],
   "source": [
    "model.fc_qt.weight"
   ]
  }
 ],
 "metadata": {
  "kernelspec": {
   "display_name": "Python 3",
   "language": "python",
   "name": "python3"
  },
  "language_info": {
   "codemirror_mode": {
    "name": "ipython",
    "version": 3
   },
   "file_extension": ".py",
   "mimetype": "text/x-python",
   "name": "python",
   "nbconvert_exporter": "python",
   "pygments_lexer": "ipython3",
   "version": "3.6.5"
  }
 },
 "nbformat": 4,
 "nbformat_minor": 4
}
